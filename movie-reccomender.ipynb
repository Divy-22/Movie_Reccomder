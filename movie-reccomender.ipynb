{
 "cells": [
  {
   "cell_type": "code",
   "execution_count": 1,
   "id": "9bbcc5a4",
   "metadata": {
    "_cell_guid": "b1076dfc-b9ad-4769-8c92-a6c4dae69d19",
    "_uuid": "8f2839f25d086af736a60e9eeb907d3b93b6e0e5",
    "execution": {
     "iopub.execute_input": "2021-10-07T12:30:58.609311Z",
     "iopub.status.busy": "2021-10-07T12:30:58.608635Z",
     "iopub.status.idle": "2021-10-07T12:30:59.596652Z",
     "shell.execute_reply": "2021-10-07T12:30:59.597745Z",
     "shell.execute_reply.started": "2021-07-19T12:04:18.014481Z"
    },
    "papermill": {
     "duration": 1.028354,
     "end_time": "2021-10-07T12:30:59.598304",
     "exception": false,
     "start_time": "2021-10-07T12:30:58.569950",
     "status": "completed"
    },
    "tags": []
   },
   "outputs": [
    {
     "name": "stdout",
     "output_type": "stream",
     "text": [
      "/kaggle/input/netflix-shows/netflix_titles.csv\n"
     ]
    }
   ],
   "source": [
    "# This Python 3 environment comes with many helpful analytics libraries installed\n",
    "# It is defined by the kaggle/python Docker image: https://github.com/kaggle/docker-python\n",
    "# For example, here's several helpful packages to load\n",
    "\n",
    "import numpy as np # linear algebra\n",
    "import pandas as pd # data processing, CSV file I/O (e.g. pd.read_csv)\n",
    "import matplotlib.pyplot as plt\n",
    "import seaborn as sns\n",
    "\n",
    "# Input data files are available in the read-only \"../input/\" directory\n",
    "# For example, running this (by clicking run or pressing Shift+Enter) will list all files under the input directory\n",
    "\n",
    "import os\n",
    "for dirname, _, filenames in os.walk('/kaggle/input'):\n",
    "    for filename in filenames:\n",
    "        print(os.path.join(dirname, filename))\n",
    "\n",
    "# You can write up to 20GB to the current directory (/kaggle/working/) that gets preserved as output when you create a version using \"Save & Run All\" \n",
    "# You can also write temporary files to /kaggle/temp/, but they won't be saved outside of the current session"
   ]
  },
  {
   "cell_type": "markdown",
   "id": "3bda83a2",
   "metadata": {
    "papermill": {
     "duration": 0.025231,
     "end_time": "2021-10-07T12:30:59.650432",
     "exception": false,
     "start_time": "2021-10-07T12:30:59.625201",
     "status": "completed"
    },
    "tags": []
   },
   "source": [
    "Inspect Data"
   ]
  },
  {
   "cell_type": "code",
   "execution_count": 2,
   "id": "d802dd0d",
   "metadata": {
    "execution": {
     "iopub.execute_input": "2021-10-07T12:30:59.704435Z",
     "iopub.status.busy": "2021-10-07T12:30:59.703763Z",
     "iopub.status.idle": "2021-10-07T12:30:59.927111Z",
     "shell.execute_reply": "2021-10-07T12:30:59.927664Z",
     "shell.execute_reply.started": "2021-07-19T12:04:19.110455Z"
    },
    "papermill": {
     "duration": 0.251866,
     "end_time": "2021-10-07T12:30:59.927858",
     "exception": false,
     "start_time": "2021-10-07T12:30:59.675992",
     "status": "completed"
    },
    "tags": []
   },
   "outputs": [],
   "source": [
    "data = pd.read_csv('/kaggle/input/netflix-shows/netflix_titles.csv')\n",
    "train_data = pd.read_csv('/kaggle/input/netflix-shows/netflix_titles.csv')"
   ]
  },
  {
   "cell_type": "code",
   "execution_count": 3,
   "id": "72674f6b",
   "metadata": {
    "execution": {
     "iopub.execute_input": "2021-10-07T12:31:00.016932Z",
     "iopub.status.busy": "2021-10-07T12:31:00.001983Z",
     "iopub.status.idle": "2021-10-07T12:31:00.021407Z",
     "shell.execute_reply": "2021-10-07T12:31:00.020671Z",
     "shell.execute_reply.started": "2021-07-19T12:04:19.331741Z"
    },
    "papermill": {
     "duration": 0.067864,
     "end_time": "2021-10-07T12:31:00.021572",
     "exception": false,
     "start_time": "2021-10-07T12:30:59.953708",
     "status": "completed"
    },
    "tags": []
   },
   "outputs": [
    {
     "name": "stdout",
     "output_type": "stream",
     "text": [
      "<class 'pandas.core.frame.DataFrame'>\n",
      "RangeIndex: 8807 entries, 0 to 8806\n",
      "Data columns (total 12 columns):\n",
      " #   Column        Non-Null Count  Dtype \n",
      "---  ------        --------------  ----- \n",
      " 0   show_id       8807 non-null   object\n",
      " 1   type          8807 non-null   object\n",
      " 2   title         8807 non-null   object\n",
      " 3   director      6173 non-null   object\n",
      " 4   cast          7982 non-null   object\n",
      " 5   country       7976 non-null   object\n",
      " 6   date_added    8797 non-null   object\n",
      " 7   release_year  8807 non-null   int64 \n",
      " 8   rating        8803 non-null   object\n",
      " 9   duration      8804 non-null   object\n",
      " 10  listed_in     8807 non-null   object\n",
      " 11  description   8807 non-null   object\n",
      "dtypes: int64(1), object(11)\n",
      "memory usage: 825.8+ KB\n"
     ]
    }
   ],
   "source": [
    "data.info()"
   ]
  },
  {
   "cell_type": "code",
   "execution_count": 4,
   "id": "970ed7b9",
   "metadata": {
    "execution": {
     "iopub.execute_input": "2021-10-07T12:31:00.090303Z",
     "iopub.status.busy": "2021-10-07T12:31:00.089459Z",
     "iopub.status.idle": "2021-10-07T12:31:00.121623Z",
     "shell.execute_reply": "2021-10-07T12:31:00.120805Z",
     "shell.execute_reply.started": "2021-07-19T12:04:19.37031Z"
    },
    "papermill": {
     "duration": 0.073285,
     "end_time": "2021-10-07T12:31:00.121872",
     "exception": false,
     "start_time": "2021-10-07T12:31:00.048587",
     "status": "completed"
    },
    "tags": []
   },
   "outputs": [
    {
     "name": "stdout",
     "output_type": "stream",
     "text": [
      "(8807, 12)\n"
     ]
    },
    {
     "data": {
      "text/html": [
       "<div>\n",
       "<style scoped>\n",
       "    .dataframe tbody tr th:only-of-type {\n",
       "        vertical-align: middle;\n",
       "    }\n",
       "\n",
       "    .dataframe tbody tr th {\n",
       "        vertical-align: top;\n",
       "    }\n",
       "\n",
       "    .dataframe thead th {\n",
       "        text-align: right;\n",
       "    }\n",
       "</style>\n",
       "<table border=\"1\" class=\"dataframe\">\n",
       "  <thead>\n",
       "    <tr style=\"text-align: right;\">\n",
       "      <th></th>\n",
       "      <th>show_id</th>\n",
       "      <th>type</th>\n",
       "      <th>title</th>\n",
       "      <th>director</th>\n",
       "      <th>cast</th>\n",
       "      <th>country</th>\n",
       "      <th>date_added</th>\n",
       "      <th>release_year</th>\n",
       "      <th>rating</th>\n",
       "      <th>duration</th>\n",
       "      <th>listed_in</th>\n",
       "      <th>description</th>\n",
       "    </tr>\n",
       "  </thead>\n",
       "  <tbody>\n",
       "    <tr>\n",
       "      <th>0</th>\n",
       "      <td>s1</td>\n",
       "      <td>Movie</td>\n",
       "      <td>Dick Johnson Is Dead</td>\n",
       "      <td>Kirsten Johnson</td>\n",
       "      <td>NaN</td>\n",
       "      <td>United States</td>\n",
       "      <td>September 25, 2021</td>\n",
       "      <td>2020</td>\n",
       "      <td>PG-13</td>\n",
       "      <td>90 min</td>\n",
       "      <td>Documentaries</td>\n",
       "      <td>As her father nears the end of his life, filmm...</td>\n",
       "    </tr>\n",
       "    <tr>\n",
       "      <th>1</th>\n",
       "      <td>s2</td>\n",
       "      <td>TV Show</td>\n",
       "      <td>Blood &amp; Water</td>\n",
       "      <td>NaN</td>\n",
       "      <td>Ama Qamata, Khosi Ngema, Gail Mabalane, Thaban...</td>\n",
       "      <td>South Africa</td>\n",
       "      <td>September 24, 2021</td>\n",
       "      <td>2021</td>\n",
       "      <td>TV-MA</td>\n",
       "      <td>2 Seasons</td>\n",
       "      <td>International TV Shows, TV Dramas, TV Mysteries</td>\n",
       "      <td>After crossing paths at a party, a Cape Town t...</td>\n",
       "    </tr>\n",
       "    <tr>\n",
       "      <th>2</th>\n",
       "      <td>s3</td>\n",
       "      <td>TV Show</td>\n",
       "      <td>Ganglands</td>\n",
       "      <td>Julien Leclercq</td>\n",
       "      <td>Sami Bouajila, Tracy Gotoas, Samuel Jouy, Nabi...</td>\n",
       "      <td>NaN</td>\n",
       "      <td>September 24, 2021</td>\n",
       "      <td>2021</td>\n",
       "      <td>TV-MA</td>\n",
       "      <td>1 Season</td>\n",
       "      <td>Crime TV Shows, International TV Shows, TV Act...</td>\n",
       "      <td>To protect his family from a powerful drug lor...</td>\n",
       "    </tr>\n",
       "    <tr>\n",
       "      <th>3</th>\n",
       "      <td>s4</td>\n",
       "      <td>TV Show</td>\n",
       "      <td>Jailbirds New Orleans</td>\n",
       "      <td>NaN</td>\n",
       "      <td>NaN</td>\n",
       "      <td>NaN</td>\n",
       "      <td>September 24, 2021</td>\n",
       "      <td>2021</td>\n",
       "      <td>TV-MA</td>\n",
       "      <td>1 Season</td>\n",
       "      <td>Docuseries, Reality TV</td>\n",
       "      <td>Feuds, flirtations and toilet talk go down amo...</td>\n",
       "    </tr>\n",
       "    <tr>\n",
       "      <th>4</th>\n",
       "      <td>s5</td>\n",
       "      <td>TV Show</td>\n",
       "      <td>Kota Factory</td>\n",
       "      <td>NaN</td>\n",
       "      <td>Mayur More, Jitendra Kumar, Ranjan Raj, Alam K...</td>\n",
       "      <td>India</td>\n",
       "      <td>September 24, 2021</td>\n",
       "      <td>2021</td>\n",
       "      <td>TV-MA</td>\n",
       "      <td>2 Seasons</td>\n",
       "      <td>International TV Shows, Romantic TV Shows, TV ...</td>\n",
       "      <td>In a city of coaching centers known to train I...</td>\n",
       "    </tr>\n",
       "  </tbody>\n",
       "</table>\n",
       "</div>"
      ],
      "text/plain": [
       "  show_id     type                  title         director  \\\n",
       "0      s1    Movie   Dick Johnson Is Dead  Kirsten Johnson   \n",
       "1      s2  TV Show          Blood & Water              NaN   \n",
       "2      s3  TV Show              Ganglands  Julien Leclercq   \n",
       "3      s4  TV Show  Jailbirds New Orleans              NaN   \n",
       "4      s5  TV Show           Kota Factory              NaN   \n",
       "\n",
       "                                                cast        country  \\\n",
       "0                                                NaN  United States   \n",
       "1  Ama Qamata, Khosi Ngema, Gail Mabalane, Thaban...   South Africa   \n",
       "2  Sami Bouajila, Tracy Gotoas, Samuel Jouy, Nabi...            NaN   \n",
       "3                                                NaN            NaN   \n",
       "4  Mayur More, Jitendra Kumar, Ranjan Raj, Alam K...          India   \n",
       "\n",
       "           date_added  release_year rating   duration  \\\n",
       "0  September 25, 2021          2020  PG-13     90 min   \n",
       "1  September 24, 2021          2021  TV-MA  2 Seasons   \n",
       "2  September 24, 2021          2021  TV-MA   1 Season   \n",
       "3  September 24, 2021          2021  TV-MA   1 Season   \n",
       "4  September 24, 2021          2021  TV-MA  2 Seasons   \n",
       "\n",
       "                                           listed_in  \\\n",
       "0                                      Documentaries   \n",
       "1    International TV Shows, TV Dramas, TV Mysteries   \n",
       "2  Crime TV Shows, International TV Shows, TV Act...   \n",
       "3                             Docuseries, Reality TV   \n",
       "4  International TV Shows, Romantic TV Shows, TV ...   \n",
       "\n",
       "                                         description  \n",
       "0  As her father nears the end of his life, filmm...  \n",
       "1  After crossing paths at a party, a Cape Town t...  \n",
       "2  To protect his family from a powerful drug lor...  \n",
       "3  Feuds, flirtations and toilet talk go down amo...  \n",
       "4  In a city of coaching centers known to train I...  "
      ]
     },
     "execution_count": 4,
     "metadata": {},
     "output_type": "execute_result"
    }
   ],
   "source": [
    "print(data.shape)\n",
    "data.head()"
   ]
  },
  {
   "cell_type": "markdown",
   "id": "6b1e1e78",
   "metadata": {
    "papermill": {
     "duration": 0.030687,
     "end_time": "2021-10-07T12:31:00.183561",
     "exception": false,
     "start_time": "2021-10-07T12:31:00.152874",
     "status": "completed"
    },
    "tags": []
   },
   "source": [
    "**Checking for NaN values**"
   ]
  },
  {
   "cell_type": "code",
   "execution_count": 5,
   "id": "eeff47d7",
   "metadata": {
    "execution": {
     "iopub.execute_input": "2021-10-07T12:31:00.251986Z",
     "iopub.status.busy": "2021-10-07T12:31:00.251297Z",
     "iopub.status.idle": "2021-10-07T12:31:00.258868Z",
     "shell.execute_reply": "2021-10-07T12:31:00.258224Z",
     "shell.execute_reply.started": "2021-07-19T12:04:19.402862Z"
    },
    "papermill": {
     "duration": 0.048144,
     "end_time": "2021-10-07T12:31:00.259007",
     "exception": false,
     "start_time": "2021-10-07T12:31:00.210863",
     "status": "completed"
    },
    "tags": []
   },
   "outputs": [
    {
     "data": {
      "text/plain": [
       "show_id            0\n",
       "type               0\n",
       "title              0\n",
       "director        2634\n",
       "cast             825\n",
       "country          831\n",
       "date_added        10\n",
       "release_year       0\n",
       "rating             4\n",
       "duration           3\n",
       "listed_in          0\n",
       "description        0\n",
       "dtype: int64"
      ]
     },
     "execution_count": 5,
     "metadata": {},
     "output_type": "execute_result"
    }
   ],
   "source": [
    "data.isnull().sum()"
   ]
  },
  {
   "cell_type": "markdown",
   "id": "a6ac1cb0",
   "metadata": {
    "papermill": {
     "duration": 0.026883,
     "end_time": "2021-10-07T12:31:00.314117",
     "exception": false,
     "start_time": "2021-10-07T12:31:00.287234",
     "status": "completed"
    },
    "tags": []
   },
   "source": [
    "**Filling values with most frequent value**"
   ]
  },
  {
   "cell_type": "code",
   "execution_count": 6,
   "id": "c78fa16a",
   "metadata": {
    "execution": {
     "iopub.execute_input": "2021-10-07T12:31:00.373670Z",
     "iopub.status.busy": "2021-10-07T12:31:00.373029Z",
     "iopub.status.idle": "2021-10-07T12:31:02.549891Z",
     "shell.execute_reply": "2021-10-07T12:31:02.549335Z",
     "shell.execute_reply.started": "2021-07-19T12:04:19.422724Z"
    },
    "papermill": {
     "duration": 2.20908,
     "end_time": "2021-10-07T12:31:02.550041",
     "exception": false,
     "start_time": "2021-10-07T12:31:00.340961",
     "status": "completed"
    },
    "tags": []
   },
   "outputs": [
    {
     "data": {
      "text/plain": [
       "show_id         0\n",
       "type            0\n",
       "title           0\n",
       "director        0\n",
       "cast            0\n",
       "country         0\n",
       "date_added      0\n",
       "release_year    0\n",
       "rating          0\n",
       "duration        0\n",
       "listed_in       0\n",
       "description     0\n",
       "dtype: int64"
      ]
     },
     "execution_count": 6,
     "metadata": {},
     "output_type": "execute_result"
    }
   ],
   "source": [
    "from sklearn.impute import SimpleImputer\n",
    "imputer = SimpleImputer(strategy = 'most_frequent')\n",
    "data = pd.DataFrame(imputer.fit_transform(data))\n",
    "data.columns = train_data.columns\n",
    "data.isnull().sum()"
   ]
  },
  {
   "cell_type": "markdown",
   "id": "d746ed3f",
   "metadata": {
    "papermill": {
     "duration": 0.02717,
     "end_time": "2021-10-07T12:31:02.605074",
     "exception": false,
     "start_time": "2021-10-07T12:31:02.577904",
     "status": "completed"
    },
    "tags": []
   },
   "source": [
    "**Counting unique values in columns**"
   ]
  },
  {
   "cell_type": "code",
   "execution_count": 7,
   "id": "34b5d296",
   "metadata": {
    "execution": {
     "iopub.execute_input": "2021-10-07T12:31:02.674922Z",
     "iopub.status.busy": "2021-10-07T12:31:02.671067Z",
     "iopub.status.idle": "2021-10-07T12:31:02.834905Z",
     "shell.execute_reply": "2021-10-07T12:31:02.834237Z",
     "shell.execute_reply.started": "2021-07-19T12:04:21.249884Z"
    },
    "papermill": {
     "duration": 0.202744,
     "end_time": "2021-10-07T12:31:02.835049",
     "exception": false,
     "start_time": "2021-10-07T12:31:02.632305",
     "status": "completed"
    },
    "tags": []
   },
   "outputs": [
    {
     "data": {
      "text/plain": [
       "<AxesSubplot:xlabel='type', ylabel='count'>"
      ]
     },
     "execution_count": 7,
     "metadata": {},
     "output_type": "execute_result"
    },
    {
     "data": {
      "image/png": "[encoded data removed]",
      "text/plain": [
       "<Figure size 432x288 with 1 Axes>"
      ]
     },
     "metadata": {
      "needs_background": "light"
     },
     "output_type": "display_data"
    }
   ],
   "source": [
    "sns.countplot(x = \"type\",data = data,palette = 'Greens_d')"
   ]
  },
  {
   "cell_type": "code",
   "execution_count": 8,
   "id": "0bd33f8b",
   "metadata": {
    "execution": {
     "iopub.execute_input": "2021-10-07T12:31:02.912722Z",
     "iopub.status.busy": "2021-10-07T12:31:02.904099Z",
     "iopub.status.idle": "2021-10-07T12:31:03.362573Z",
     "shell.execute_reply": "2021-10-07T12:31:03.362027Z",
     "shell.execute_reply.started": "2021-07-19T12:04:21.429582Z"
    },
    "papermill": {
     "duration": 0.49891,
     "end_time": "2021-10-07T12:31:03.362732",
     "exception": false,
     "start_time": "2021-10-07T12:31:02.863822",
     "status": "completed"
    },
    "tags": []
   },
   "outputs": [
    {
     "data": {
      "text/plain": [
       "<AxesSubplot:xlabel='release_year', ylabel='count'>"
      ]
     },
     "execution_count": 8,
     "metadata": {},
     "output_type": "execute_result"
    },
    {
     "data": {
      "image/png": "[encoded data removed]",
      "text/plain": [
       "<Figure size 864x720 with 1 Axes>"
      ]
     },
     "metadata": {
      "needs_background": "light"
     },
     "output_type": "display_data"
    }
   ],
   "source": [
    "plt.figure(figsize=(12,10))\n",
    "sns.set(style=\"darkgrid\")\n",
    "sns.countplot(x = \"release_year\",data = data,order = data['release_year'].value_counts().index[0:15], hue = 'type')"
   ]
  },
  {
   "cell_type": "code",
   "execution_count": 9,
   "id": "9ba338e8",
   "metadata": {
    "execution": {
     "iopub.execute_input": "2021-10-07T12:31:03.438818Z",
     "iopub.status.busy": "2021-10-07T12:31:03.434681Z",
     "iopub.status.idle": "2021-10-07T12:31:03.902601Z",
     "shell.execute_reply": "2021-10-07T12:31:03.903085Z",
     "shell.execute_reply.started": "2021-07-19T12:04:21.924145Z"
    },
    "papermill": {
     "duration": 0.510817,
     "end_time": "2021-10-07T12:31:03.903266",
     "exception": false,
     "start_time": "2021-10-07T12:31:03.392449",
     "status": "completed"
    },
    "tags": []
   },
   "outputs": [
    {
     "data": {
      "text/plain": [
       "<AxesSubplot:xlabel='count', ylabel='rating'>"
      ]
     },
     "execution_count": 9,
     "metadata": {},
     "output_type": "execute_result"
    },
    {
     "data": {
      "image/png": "[encoded data removed]",
      "text/plain": [
       "<Figure size 864x720 with 1 Axes>"
      ]
     },
     "metadata": {},
     "output_type": "display_data"
    }
   ],
   "source": [
    "plt.figure(figsize=(12,10))\n",
    "sns.set(style=\"darkgrid\")\n",
    "sns.countplot(y = \"rating\",data = data, hue = 'type')"
   ]
  },
  {
   "cell_type": "markdown",
   "id": "f3223614",
   "metadata": {
    "papermill": {
     "duration": 0.030694,
     "end_time": "2021-10-07T12:31:03.965713",
     "exception": false,
     "start_time": "2021-10-07T12:31:03.935019",
     "status": "completed"
    },
    "tags": []
   },
   "source": [
    "**Duration Analysis**"
   ]
  },
  {
   "cell_type": "code",
   "execution_count": 10,
   "id": "4590b02e",
   "metadata": {
    "execution": {
     "iopub.execute_input": "2021-10-07T12:31:04.047211Z",
     "iopub.status.busy": "2021-10-07T12:31:04.036793Z",
     "iopub.status.idle": "2021-10-07T12:31:04.184547Z",
     "shell.execute_reply": "2021-10-07T12:31:04.183477Z",
     "shell.execute_reply.started": "2021-07-19T12:04:22.397228Z"
    },
    "papermill": {
     "duration": 0.186716,
     "end_time": "2021-10-07T12:31:04.184873",
     "exception": true,
     "start_time": "2021-10-07T12:31:03.998157",
     "status": "failed"
    },
    "tags": []
   },
   "outputs": [
    {
     "ename": "ValueError",
     "evalue": "invalid literal for int() with base 10: '1 Season'",
     "output_type": "error",
     "traceback": [
      "\u001b[0;31m---------------------------------------------------------------------------\u001b[0m",
      "\u001b[0;31mValueError\u001b[0m                                Traceback (most recent call last)",
      "\u001b[0;32m<ipython-input-10-4afbbf478e58>\u001b[0m in \u001b[0;36m<module>\u001b[0;34m\u001b[0m\n\u001b[1;32m      2\u001b[0m \u001b[0mmovie_data\u001b[0m \u001b[0;34m=\u001b[0m \u001b[0mdata\u001b[0m\u001b[0;34m[\u001b[0m\u001b[0mdata\u001b[0m\u001b[0;34m.\u001b[0m\u001b[0mtype\u001b[0m \u001b[0;34m==\u001b[0m \u001b[0;34m'Movie'\u001b[0m\u001b[0;34m]\u001b[0m\u001b[0;34m\u001b[0m\u001b[0;34m\u001b[0m\u001b[0m\n\u001b[1;32m      3\u001b[0m \u001b[0mmovie_data\u001b[0m\u001b[0;34m[\u001b[0m\u001b[0;34m'duration'\u001b[0m\u001b[0;34m]\u001b[0m \u001b[0;34m=\u001b[0m \u001b[0mmovie_data\u001b[0m\u001b[0;34m[\u001b[0m\u001b[0;34m'duration'\u001b[0m\u001b[0;34m]\u001b[0m\u001b[0;34m.\u001b[0m\u001b[0mstr\u001b[0m\u001b[0;34m.\u001b[0m\u001b[0mreplace\u001b[0m\u001b[0;34m(\u001b[0m\u001b[0;34m' min'\u001b[0m\u001b[0;34m,\u001b[0m\u001b[0;34m''\u001b[0m\u001b[0;34m)\u001b[0m\u001b[0;34m\u001b[0m\u001b[0;34m\u001b[0m\u001b[0m\n\u001b[0;32m----> 4\u001b[0;31m \u001b[0mmovie_data\u001b[0m\u001b[0;34m[\u001b[0m\u001b[0;34m'duration'\u001b[0m\u001b[0;34m]\u001b[0m \u001b[0;34m=\u001b[0m \u001b[0mmovie_data\u001b[0m\u001b[0;34m[\u001b[0m\u001b[0;34m'duration'\u001b[0m\u001b[0;34m]\u001b[0m\u001b[0;34m.\u001b[0m\u001b[0mastype\u001b[0m\u001b[0;34m(\u001b[0m\u001b[0mstr\u001b[0m\u001b[0;34m)\u001b[0m\u001b[0;34m.\u001b[0m\u001b[0mastype\u001b[0m\u001b[0;34m(\u001b[0m\u001b[0mint\u001b[0m\u001b[0;34m)\u001b[0m\u001b[0;34m\u001b[0m\u001b[0;34m\u001b[0m\u001b[0m\n\u001b[0m\u001b[1;32m      5\u001b[0m \u001b[0;34m\u001b[0m\u001b[0m\n\u001b[1;32m      6\u001b[0m \u001b[0mmovie_data\u001b[0m\u001b[0;34m.\u001b[0m\u001b[0mduration\u001b[0m\u001b[0;34m\u001b[0m\u001b[0;34m\u001b[0m\u001b[0m\n",
      "\u001b[0;32m/opt/conda/lib/python3.7/site-packages/pandas/core/generic.py\u001b[0m in \u001b[0;36mastype\u001b[0;34m(self, dtype, copy, errors)\u001b[0m\n\u001b[1;32m   5875\u001b[0m         \u001b[0;32melse\u001b[0m\u001b[0;34m:\u001b[0m\u001b[0;34m\u001b[0m\u001b[0;34m\u001b[0m\u001b[0m\n\u001b[1;32m   5876\u001b[0m             \u001b[0;31m# else, only a single dtype is given\u001b[0m\u001b[0;34m\u001b[0m\u001b[0;34m\u001b[0m\u001b[0;34m\u001b[0m\u001b[0m\n\u001b[0;32m-> 5877\u001b[0;31m             \u001b[0mnew_data\u001b[0m \u001b[0;34m=\u001b[0m \u001b[0mself\u001b[0m\u001b[0;34m.\u001b[0m\u001b[0m_mgr\u001b[0m\u001b[0;34m.\u001b[0m\u001b[0mastype\u001b[0m\u001b[0;34m(\u001b[0m\u001b[0mdtype\u001b[0m\u001b[0;34m=\u001b[0m\u001b[0mdtype\u001b[0m\u001b[0;34m,\u001b[0m \u001b[0mcopy\u001b[0m\u001b[0;34m=\u001b[0m\u001b[0mcopy\u001b[0m\u001b[0;34m,\u001b[0m \u001b[0merrors\u001b[0m\u001b[0;34m=\u001b[0m\u001b[0merrors\u001b[0m\u001b[0;34m)\u001b[0m\u001b[0;34m\u001b[0m\u001b[0;34m\u001b[0m\u001b[0m\n\u001b[0m\u001b[1;32m   5878\u001b[0m             \u001b[0;32mreturn\u001b[0m \u001b[0mself\u001b[0m\u001b[0;34m.\u001b[0m\u001b[0m_constructor\u001b[0m\u001b[0;34m(\u001b[0m\u001b[0mnew_data\u001b[0m\u001b[0;34m)\u001b[0m\u001b[0;34m.\u001b[0m\u001b[0m__finalize__\u001b[0m\u001b[0;34m(\u001b[0m\u001b[0mself\u001b[0m\u001b[0;34m,\u001b[0m \u001b[0mmethod\u001b[0m\u001b[0;34m=\u001b[0m\u001b[0;34m\"astype\"\u001b[0m\u001b[0;34m)\u001b[0m\u001b[0;34m\u001b[0m\u001b[0;34m\u001b[0m\u001b[0m\n\u001b[1;32m   5879\u001b[0m \u001b[0;34m\u001b[0m\u001b[0m\n",
      "\u001b[0;32m/opt/conda/lib/python3.7/site-packages/pandas/core/internals/managers.py\u001b[0m in \u001b[0;36mastype\u001b[0;34m(self, dtype, copy, errors)\u001b[0m\n\u001b[1;32m    629\u001b[0m         \u001b[0mself\u001b[0m\u001b[0;34m,\u001b[0m \u001b[0mdtype\u001b[0m\u001b[0;34m,\u001b[0m \u001b[0mcopy\u001b[0m\u001b[0;34m:\u001b[0m \u001b[0mbool\u001b[0m \u001b[0;34m=\u001b[0m \u001b[0;32mFalse\u001b[0m\u001b[0;34m,\u001b[0m \u001b[0merrors\u001b[0m\u001b[0;34m:\u001b[0m \u001b[0mstr\u001b[0m \u001b[0;34m=\u001b[0m \u001b[0;34m\"raise\"\u001b[0m\u001b[0;34m\u001b[0m\u001b[0;34m\u001b[0m\u001b[0m\n\u001b[1;32m    630\u001b[0m     ) -> \"BlockManager\":\n\u001b[0;32m--> 631\u001b[0;31m         \u001b[0;32mreturn\u001b[0m \u001b[0mself\u001b[0m\u001b[0;34m.\u001b[0m\u001b[0mapply\u001b[0m\u001b[0;34m(\u001b[0m\u001b[0;34m\"astype\"\u001b[0m\u001b[0;34m,\u001b[0m \u001b[0mdtype\u001b[0m\u001b[0;34m=\u001b[0m\u001b[0mdtype\u001b[0m\u001b[0;34m,\u001b[0m \u001b[0mcopy\u001b[0m\u001b[0;34m=\u001b[0m\u001b[0mcopy\u001b[0m\u001b[0;34m,\u001b[0m \u001b[0merrors\u001b[0m\u001b[0;34m=\u001b[0m\u001b[0merrors\u001b[0m\u001b[0;34m)\u001b[0m\u001b[0;34m\u001b[0m\u001b[0;34m\u001b[0m\u001b[0m\n\u001b[0m\u001b[1;32m    632\u001b[0m \u001b[0;34m\u001b[0m\u001b[0m\n\u001b[1;32m    633\u001b[0m     def convert(\n",
      "\u001b[0;32m/opt/conda/lib/python3.7/site-packages/pandas/core/internals/managers.py\u001b[0m in \u001b[0;36mapply\u001b[0;34m(self, f, align_keys, ignore_failures, **kwargs)\u001b[0m\n\u001b[1;32m    425\u001b[0m                     \u001b[0mapplied\u001b[0m \u001b[0;34m=\u001b[0m \u001b[0mb\u001b[0m\u001b[0;34m.\u001b[0m\u001b[0mapply\u001b[0m\u001b[0;34m(\u001b[0m\u001b[0mf\u001b[0m\u001b[0;34m,\u001b[0m \u001b[0;34m**\u001b[0m\u001b[0mkwargs\u001b[0m\u001b[0;34m)\u001b[0m\u001b[0;34m\u001b[0m\u001b[0;34m\u001b[0m\u001b[0m\n\u001b[1;32m    426\u001b[0m                 \u001b[0;32melse\u001b[0m\u001b[0;34m:\u001b[0m\u001b[0;34m\u001b[0m\u001b[0;34m\u001b[0m\u001b[0m\n\u001b[0;32m--> 427\u001b[0;31m                     \u001b[0mapplied\u001b[0m \u001b[0;34m=\u001b[0m \u001b[0mgetattr\u001b[0m\u001b[0;34m(\u001b[0m\u001b[0mb\u001b[0m\u001b[0;34m,\u001b[0m \u001b[0mf\u001b[0m\u001b[0;34m)\u001b[0m\u001b[0;34m(\u001b[0m\u001b[0;34m**\u001b[0m\u001b[0mkwargs\u001b[0m\u001b[0;34m)\u001b[0m\u001b[0;34m\u001b[0m\u001b[0;34m\u001b[0m\u001b[0m\n\u001b[0m\u001b[1;32m    428\u001b[0m             \u001b[0;32mexcept\u001b[0m \u001b[0;34m(\u001b[0m\u001b[0mTypeError\u001b[0m\u001b[0;34m,\u001b[0m \u001b[0mNotImplementedError\u001b[0m\u001b[0;34m)\u001b[0m\u001b[0;34m:\u001b[0m\u001b[0;34m\u001b[0m\u001b[0;34m\u001b[0m\u001b[0m\n\u001b[1;32m    429\u001b[0m                 \u001b[0;32mif\u001b[0m \u001b[0;32mnot\u001b[0m \u001b[0mignore_failures\u001b[0m\u001b[0;34m:\u001b[0m\u001b[0;34m\u001b[0m\u001b[0;34m\u001b[0m\u001b[0m\n",
      "\u001b[0;32m/opt/conda/lib/python3.7/site-packages/pandas/core/internals/blocks.py\u001b[0m in \u001b[0;36mastype\u001b[0;34m(self, dtype, copy, errors)\u001b[0m\n\u001b[1;32m    671\u001b[0m             \u001b[0mvals1d\u001b[0m \u001b[0;34m=\u001b[0m \u001b[0mvalues\u001b[0m\u001b[0;34m.\u001b[0m\u001b[0mravel\u001b[0m\u001b[0;34m(\u001b[0m\u001b[0;34m)\u001b[0m\u001b[0;34m\u001b[0m\u001b[0;34m\u001b[0m\u001b[0m\n\u001b[1;32m    672\u001b[0m             \u001b[0;32mtry\u001b[0m\u001b[0;34m:\u001b[0m\u001b[0;34m\u001b[0m\u001b[0;34m\u001b[0m\u001b[0m\n\u001b[0;32m--> 673\u001b[0;31m                 \u001b[0mvalues\u001b[0m \u001b[0;34m=\u001b[0m \u001b[0mastype_nansafe\u001b[0m\u001b[0;34m(\u001b[0m\u001b[0mvals1d\u001b[0m\u001b[0;34m,\u001b[0m \u001b[0mdtype\u001b[0m\u001b[0;34m,\u001b[0m \u001b[0mcopy\u001b[0m\u001b[0;34m=\u001b[0m\u001b[0;32mTrue\u001b[0m\u001b[0;34m)\u001b[0m\u001b[0;34m\u001b[0m\u001b[0;34m\u001b[0m\u001b[0m\n\u001b[0m\u001b[1;32m    674\u001b[0m             \u001b[0;32mexcept\u001b[0m \u001b[0;34m(\u001b[0m\u001b[0mValueError\u001b[0m\u001b[0;34m,\u001b[0m \u001b[0mTypeError\u001b[0m\u001b[0;34m)\u001b[0m\u001b[0;34m:\u001b[0m\u001b[0;34m\u001b[0m\u001b[0;34m\u001b[0m\u001b[0m\n\u001b[1;32m    675\u001b[0m                 \u001b[0;31m# e.g. astype_nansafe can fail on object-dtype of strings\u001b[0m\u001b[0;34m\u001b[0m\u001b[0;34m\u001b[0m\u001b[0;34m\u001b[0m\u001b[0m\n",
      "\u001b[0;32m/opt/conda/lib/python3.7/site-packages/pandas/core/dtypes/cast.py\u001b[0m in \u001b[0;36mastype_nansafe\u001b[0;34m(arr, dtype, copy, skipna)\u001b[0m\n\u001b[1;32m   1072\u001b[0m         \u001b[0;31m# work around NumPy brokenness, #1987\u001b[0m\u001b[0;34m\u001b[0m\u001b[0;34m\u001b[0m\u001b[0;34m\u001b[0m\u001b[0m\n\u001b[1;32m   1073\u001b[0m         \u001b[0;32mif\u001b[0m \u001b[0mnp\u001b[0m\u001b[0;34m.\u001b[0m\u001b[0missubdtype\u001b[0m\u001b[0;34m(\u001b[0m\u001b[0mdtype\u001b[0m\u001b[0;34m.\u001b[0m\u001b[0mtype\u001b[0m\u001b[0;34m,\u001b[0m \u001b[0mnp\u001b[0m\u001b[0;34m.\u001b[0m\u001b[0minteger\u001b[0m\u001b[0;34m)\u001b[0m\u001b[0;34m:\u001b[0m\u001b[0;34m\u001b[0m\u001b[0;34m\u001b[0m\u001b[0m\n\u001b[0;32m-> 1074\u001b[0;31m             \u001b[0;32mreturn\u001b[0m \u001b[0mlib\u001b[0m\u001b[0;34m.\u001b[0m\u001b[0mastype_intsafe\u001b[0m\u001b[0;34m(\u001b[0m\u001b[0marr\u001b[0m\u001b[0;34m.\u001b[0m\u001b[0mravel\u001b[0m\u001b[0;34m(\u001b[0m\u001b[0;34m)\u001b[0m\u001b[0;34m,\u001b[0m \u001b[0mdtype\u001b[0m\u001b[0;34m)\u001b[0m\u001b[0;34m.\u001b[0m\u001b[0mreshape\u001b[0m\u001b[0;34m(\u001b[0m\u001b[0marr\u001b[0m\u001b[0;34m.\u001b[0m\u001b[0mshape\u001b[0m\u001b[0;34m)\u001b[0m\u001b[0;34m\u001b[0m\u001b[0;34m\u001b[0m\u001b[0m\n\u001b[0m\u001b[1;32m   1075\u001b[0m \u001b[0;34m\u001b[0m\u001b[0m\n\u001b[1;32m   1076\u001b[0m         \u001b[0;31m# if we have a datetime/timedelta array of objects\u001b[0m\u001b[0;34m\u001b[0m\u001b[0;34m\u001b[0m\u001b[0;34m\u001b[0m\u001b[0m\n",
      "\u001b[0;32mpandas/_libs/lib.pyx\u001b[0m in \u001b[0;36mpandas._libs.lib.astype_intsafe\u001b[0;34m()\u001b[0m\n",
      "\u001b[0;31mValueError\u001b[0m: invalid literal for int() with base 10: '1 Season'"
     ]
    }
   ],
   "source": [
    "pd.options.mode.chained_assignment = None  # default='warn'\n",
    "movie_data = data[data.type == 'Movie']\n",
    "movie_data['duration'] = movie_data['duration'].str.replace(' min','')\n",
    "movie_data['duration'] = movie_data['duration'].astype(str).astype(int)\n",
    "\n",
    "movie_data.duration"
   ]
  },
  {
   "cell_type": "code",
   "execution_count": null,
   "id": "8e98e00f",
   "metadata": {
    "execution": {
     "iopub.execute_input": "2021-07-19T12:04:22.425257Z",
     "iopub.status.busy": "2021-07-19T12:04:22.424855Z",
     "iopub.status.idle": "2021-07-19T12:04:23.01221Z",
     "shell.execute_reply": "2021-07-19T12:04:23.011115Z",
     "shell.execute_reply.started": "2021-07-19T12:04:22.425216Z"
    },
    "papermill": {
     "duration": null,
     "end_time": null,
     "exception": null,
     "start_time": null,
     "status": "pending"
    },
    "tags": []
   },
   "outputs": [],
   "source": [
    "sns.kdeplot(movie_data['duration'])"
   ]
  },
  {
   "cell_type": "code",
   "execution_count": null,
   "id": "79c5309c",
   "metadata": {
    "execution": {
     "iopub.execute_input": "2021-07-19T12:04:23.014099Z",
     "iopub.status.busy": "2021-07-19T12:04:23.013723Z",
     "iopub.status.idle": "2021-07-19T12:04:23.036109Z",
     "shell.execute_reply": "2021-07-19T12:04:23.035084Z",
     "shell.execute_reply.started": "2021-07-19T12:04:23.014064Z"
    },
    "papermill": {
     "duration": null,
     "end_time": null,
     "exception": null,
     "start_time": null,
     "status": "pending"
    },
    "tags": []
   },
   "outputs": [],
   "source": [
    "pd.options.mode.chained_assignment = None  # default='warn'\n",
    "tv_data = data[data.type == 'TV Show']\n",
    "tv_data['duration'] = tv_data['duration'].str.replace(' Season','')\n",
    "tv_data['duration'] = tv_data['duration'].str.replace('s','')\n",
    "tv_data['duration'] = tv_data['duration'].astype(str).astype(int)\n",
    "\n",
    "tv_data.duration"
   ]
  },
  {
   "cell_type": "code",
   "execution_count": null,
   "id": "847362fd",
   "metadata": {
    "execution": {
     "iopub.execute_input": "2021-07-19T12:04:23.037684Z",
     "iopub.status.busy": "2021-07-19T12:04:23.037365Z",
     "iopub.status.idle": "2021-07-19T12:04:23.331191Z",
     "shell.execute_reply": "2021-07-19T12:04:23.330198Z",
     "shell.execute_reply.started": "2021-07-19T12:04:23.037653Z"
    },
    "papermill": {
     "duration": null,
     "end_time": null,
     "exception": null,
     "start_time": null,
     "status": "pending"
    },
    "tags": []
   },
   "outputs": [],
   "source": [
    "sns.kdeplot(tv_data['duration'])"
   ]
  },
  {
   "cell_type": "code",
   "execution_count": null,
   "id": "8766942e",
   "metadata": {
    "execution": {
     "iopub.execute_input": "2021-07-19T12:04:23.332827Z",
     "iopub.status.busy": "2021-07-19T12:04:23.332503Z",
     "iopub.status.idle": "2021-07-19T12:04:23.702851Z",
     "shell.execute_reply": "2021-07-19T12:04:23.701781Z",
     "shell.execute_reply.started": "2021-07-19T12:04:23.332796Z"
    },
    "papermill": {
     "duration": null,
     "end_time": null,
     "exception": null,
     "start_time": null,
     "status": "pending"
    },
    "tags": []
   },
   "outputs": [],
   "source": [
    "tv_show = tv_data.loc[:,['title','duration']]\n",
    "tv_show = tv_show.sort_values(by = 'duration',ascending = False)\n",
    "top_10 = tv_show[0:11]\n",
    "top_10.plot(kind='bar',x='title',y='duration', color='purple')"
   ]
  },
  {
   "cell_type": "code",
   "execution_count": null,
   "id": "99cebf18",
   "metadata": {
    "execution": {
     "iopub.execute_input": "2021-07-19T12:04:23.704355Z",
     "iopub.status.busy": "2021-07-19T12:04:23.704079Z",
     "iopub.status.idle": "2021-07-19T12:04:23.718679Z",
     "shell.execute_reply": "2021-07-19T12:04:23.717758Z",
     "shell.execute_reply.started": "2021-07-19T12:04:23.704328Z"
    },
    "papermill": {
     "duration": null,
     "end_time": null,
     "exception": null,
     "start_time": null,
     "status": "pending"
    },
    "tags": []
   },
   "outputs": [],
   "source": [
    "country_count=data['country'].value_counts().sort_values(ascending=False)\n",
    "country_count=pd.DataFrame(country_count)\n",
    "topcountries=country_count[0:11]\n",
    "topcountries"
   ]
  },
  {
   "cell_type": "code",
   "execution_count": null,
   "id": "13f85d92",
   "metadata": {
    "execution": {
     "iopub.execute_input": "2021-07-19T12:04:23.720058Z",
     "iopub.status.busy": "2021-07-19T12:04:23.719778Z",
     "iopub.status.idle": "2021-07-19T12:04:24.040081Z",
     "shell.execute_reply": "2021-07-19T12:04:24.039083Z",
     "shell.execute_reply.started": "2021-07-19T12:04:23.720032Z"
    },
    "papermill": {
     "duration": null,
     "end_time": null,
     "exception": null,
     "start_time": null,
     "status": "pending"
    },
    "tags": []
   },
   "outputs": [],
   "source": [
    "topcountries.plot(kind = 'bar')"
   ]
  },
  {
   "cell_type": "code",
   "execution_count": null,
   "id": "26a9fe8a",
   "metadata": {
    "execution": {
     "iopub.execute_input": "2021-07-19T12:04:24.041624Z",
     "iopub.status.busy": "2021-07-19T12:04:24.041307Z",
     "iopub.status.idle": "2021-07-19T12:04:24.066905Z",
     "shell.execute_reply": "2021-07-19T12:04:24.065992Z",
     "shell.execute_reply.started": "2021-07-19T12:04:24.041595Z"
    },
    "papermill": {
     "duration": null,
     "end_time": null,
     "exception": null,
     "start_time": null,
     "status": "pending"
    },
    "tags": []
   },
   "outputs": [],
   "source": [
    "netflix_date = data[['date_added']].dropna()\n",
    "netflix_date['year'] = netflix_date['date_added'].apply(lambda x : x.split(', ')[-1])\n",
    "netflix_date['month'] = netflix_date['date_added'].apply(lambda x : x.lstrip().split(' ')[0])\n",
    "df = netflix_date.groupby('year')['month'].value_counts()"
   ]
  },
  {
   "cell_type": "markdown",
   "id": "f486a88d",
   "metadata": {
    "papermill": {
     "duration": null,
     "end_time": null,
     "exception": null,
     "start_time": null,
     "status": "pending"
    },
    "tags": []
   },
   "source": [
    "**Recommender**"
   ]
  },
  {
   "cell_type": "code",
   "execution_count": null,
   "id": "5e773430",
   "metadata": {
    "execution": {
     "iopub.execute_input": "2021-07-19T12:07:13.895306Z",
     "iopub.status.busy": "2021-07-19T12:07:13.89473Z",
     "iopub.status.idle": "2021-07-19T12:07:13.900593Z",
     "shell.execute_reply": "2021-07-19T12:07:13.899817Z",
     "shell.execute_reply.started": "2021-07-19T12:07:13.895257Z"
    },
    "papermill": {
     "duration": null,
     "end_time": null,
     "exception": null,
     "start_time": null,
     "status": "pending"
    },
    "tags": []
   },
   "outputs": [],
   "source": [
    "def clean_data(x):\n",
    "    return str.lower(x.replace(' ',''))"
   ]
  },
  {
   "cell_type": "code",
   "execution_count": null,
   "id": "67e60c73",
   "metadata": {
    "papermill": {
     "duration": null,
     "end_time": null,
     "exception": null,
     "start_time": null,
     "status": "pending"
    },
    "tags": []
   },
   "outputs": [],
   "source": [
    "train_data = data.fillna('')\n",
    "train_data.head()"
   ]
  },
  {
   "cell_type": "code",
   "execution_count": null,
   "id": "54146d7b",
   "metadata": {
    "execution": {
     "iopub.execute_input": "2021-07-19T12:07:24.595346Z",
     "iopub.status.busy": "2021-07-19T12:07:24.594797Z",
     "iopub.status.idle": "2021-07-19T12:07:24.662123Z",
     "shell.execute_reply": "2021-07-19T12:07:24.661102Z",
     "shell.execute_reply.started": "2021-07-19T12:07:24.595296Z"
    },
    "papermill": {
     "duration": null,
     "end_time": null,
     "exception": null,
     "start_time": null,
     "status": "pending"
    },
    "tags": []
   },
   "outputs": [],
   "source": [
    "features=['title','director','cast','listed_in','description']\n",
    "train_data = train_data[features]\n",
    "\n",
    "for feature in features:\n",
    "    train_data[feature] = train_data[feature].apply(clean_data)\n",
    "\n",
    "train_data.head()"
   ]
  },
  {
   "cell_type": "markdown",
   "id": "e82173af",
   "metadata": {
    "papermill": {
     "duration": null,
     "end_time": null,
     "exception": null,
     "start_time": null,
     "status": "pending"
    },
    "tags": []
   },
   "source": [
    "**Soup of Words**"
   ]
  },
  {
   "cell_type": "code",
   "execution_count": null,
   "id": "505c7e98",
   "metadata": {
    "execution": {
     "iopub.execute_input": "2021-07-19T12:10:16.499921Z",
     "iopub.status.busy": "2021-07-19T12:10:16.499538Z",
     "iopub.status.idle": "2021-07-19T12:10:16.504933Z",
     "shell.execute_reply": "2021-07-19T12:10:16.503829Z",
     "shell.execute_reply.started": "2021-07-19T12:10:16.499888Z"
    },
    "papermill": {
     "duration": null,
     "end_time": null,
     "exception": null,
     "start_time": null,
     "status": "pending"
    },
    "tags": []
   },
   "outputs": [],
   "source": [
    "def soup_words(x) :\n",
    "    return x['title']+ ' ' + x['director'] + ' ' + x['cast'] + ' ' +x['listed_in']+' '+ x['description']"
   ]
  },
  {
   "cell_type": "code",
   "execution_count": null,
   "id": "d27fe312",
   "metadata": {
    "execution": {
     "iopub.execute_input": "2021-07-19T12:10:18.919123Z",
     "iopub.status.busy": "2021-07-19T12:10:18.918751Z",
     "iopub.status.idle": "2021-07-19T12:10:19.195947Z",
     "shell.execute_reply": "2021-07-19T12:10:19.194959Z",
     "shell.execute_reply.started": "2021-07-19T12:10:18.919088Z"
    },
    "papermill": {
     "duration": null,
     "end_time": null,
     "exception": null,
     "start_time": null,
     "status": "pending"
    },
    "tags": []
   },
   "outputs": [],
   "source": [
    "train_data['soup'] = train_data.apply(soup_words,axis = 1)"
   ]
  },
  {
   "cell_type": "code",
   "execution_count": null,
   "id": "d77a16dc",
   "metadata": {
    "execution": {
     "iopub.execute_input": "2021-07-19T12:15:09.549268Z",
     "iopub.status.busy": "2021-07-19T12:15:09.5488Z",
     "iopub.status.idle": "2021-07-19T12:15:11.178291Z",
     "shell.execute_reply": "2021-07-19T12:15:11.177194Z",
     "shell.execute_reply.started": "2021-07-19T12:15:09.549238Z"
    },
    "papermill": {
     "duration": null,
     "end_time": null,
     "exception": null,
     "start_time": null,
     "status": "pending"
    },
    "tags": []
   },
   "outputs": [],
   "source": [
    "from sklearn.feature_extraction.text import CountVectorizer\n",
    "from sklearn.metrics.pairwise import cosine_similarity\n",
    "\n",
    "count = CountVectorizer(stop_words='english')\n",
    "count_matrix = count.fit_transform(train_data['soup'])\n",
    "\n",
    "cosine_sim = cosine_similarity(count_matrix, count_matrix)"
   ]
  },
  {
   "cell_type": "code",
   "execution_count": null,
   "id": "e036aa48",
   "metadata": {
    "execution": {
     "iopub.execute_input": "2021-07-19T12:25:01.762152Z",
     "iopub.status.busy": "2021-07-19T12:25:01.761599Z",
     "iopub.status.idle": "2021-07-19T12:25:01.784285Z",
     "shell.execute_reply": "2021-07-19T12:25:01.782699Z",
     "shell.execute_reply.started": "2021-07-19T12:25:01.762118Z"
    },
    "papermill": {
     "duration": null,
     "end_time": null,
     "exception": null,
     "start_time": null,
     "status": "pending"
    },
    "tags": []
   },
   "outputs": [],
   "source": [
    "train_data = train_data.reset_index()\n",
    "indices = pd.Series(train_data.index,index = train_data['title'])\n",
    "indices"
   ]
  },
  {
   "cell_type": "code",
   "execution_count": null,
   "id": "2b182715",
   "metadata": {
    "execution": {
     "iopub.execute_input": "2021-07-19T12:22:15.724137Z",
     "iopub.status.busy": "2021-07-19T12:22:15.723611Z",
     "iopub.status.idle": "2021-07-19T12:22:15.729839Z",
     "shell.execute_reply": "2021-07-19T12:22:15.729076Z",
     "shell.execute_reply.started": "2021-07-19T12:22:15.724091Z"
    },
    "papermill": {
     "duration": null,
     "end_time": null,
     "exception": null,
     "start_time": null,
     "status": "pending"
    },
    "tags": []
   },
   "outputs": [],
   "source": [
    "def get_recommendation(title, cosine_sim = cosine_sim):\n",
    "    title = title.replace(' ', '').lower()\n",
    "    idx = indices[title]\n",
    "    \n",
    "    sim_scores = list(enumerate(cosine_sim[idx]))\n",
    "    sim_scores = sorted(sim_scores,key = lambda x : x[1],reverse = True )\n",
    "    \n",
    "    sim_scores = sim_scores[1:11]\n",
    "    \n",
    "    movie_indices = [i[0] for i in sim_scores]\n",
    "\n",
    "    # Return the top 10 most similar movies\n",
    "    return data['title'].iloc[movie_indices]"
   ]
  },
  {
   "cell_type": "code",
   "execution_count": null,
   "id": "1a4134e5",
   "metadata": {
    "execution": {
     "iopub.execute_input": "2021-07-19T12:23:35.449784Z",
     "iopub.status.busy": "2021-07-19T12:23:35.449218Z",
     "iopub.status.idle": "2021-07-19T12:23:35.466449Z",
     "shell.execute_reply": "2021-07-19T12:23:35.465376Z",
     "shell.execute_reply.started": "2021-07-19T12:23:35.44973Z"
    },
    "papermill": {
     "duration": null,
     "end_time": null,
     "exception": null,
     "start_time": null,
     "status": "pending"
    },
    "tags": []
   },
   "outputs": [],
   "source": [
    "get_recommendation('Peaky Blinders', cosine_sim)"
   ]
  },
  {
   "cell_type": "code",
   "execution_count": null,
   "id": "1bc54451",
   "metadata": {
    "execution": {
     "iopub.execute_input": "2021-07-19T12:22:52.911533Z",
     "iopub.status.busy": "2021-07-19T12:22:52.911188Z",
     "iopub.status.idle": "2021-07-19T12:22:52.927724Z",
     "shell.execute_reply": "2021-07-19T12:22:52.926594Z",
     "shell.execute_reply.started": "2021-07-19T12:22:52.911504Z"
    },
    "papermill": {
     "duration": null,
     "end_time": null,
     "exception": null,
     "start_time": null,
     "status": "pending"
    },
    "tags": []
   },
   "outputs": [],
   "source": [
    "get_recommendation('Mortel')"
   ]
  }
 ],
 "metadata": {
  "kernelspec": {
   "display_name": "Python 3",
   "language": "python",
   "name": "python3"
  },
  "language_info": {
   "codemirror_mode": {
    "name": "ipython",
    "version": 3
   },
   "file_extension": ".py",
   "mimetype": "text/x-python",
   "name": "python",
   "nbconvert_exporter": "python",
   "pygments_lexer": "ipython3",
   "version": "3.7.10"
  },
  "papermill": {
   "default_parameters": {},
   "duration": 14.561877,
   "end_time": "2021-10-07T12:31:05.027446",
   "environment_variables": {},
   "exception": true,
   "input_path": "__notebook__.ipynb",
   "output_path": "__notebook__.ipynb",
   "parameters": {},
   "start_time": "2021-10-07T12:30:50.465569",
   "version": "2.3.3"
  }
 },
 "nbformat": 4,
 "nbformat_minor": 5
}
